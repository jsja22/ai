{
  "nbformat": 4,
  "nbformat_minor": 0,
  "metadata": {
    "colab": {
      "name": "seq1_1.ipynb",
      "provenance": [],
      "collapsed_sections": [],
      "authorship_tag": "ABX9TyNAlMo1tTbPAqbj/m3lT2/J",
      "include_colab_link": true
    },
    "kernelspec": {
      "name": "python3",
      "display_name": "Python 3"
    }
  },
  "cells": [
    {
      "cell_type": "markdown",
      "metadata": {
        "id": "view-in-github",
        "colab_type": "text"
      },
      "source": [
        "<a href=\"https://colab.research.google.com/github/jsja22/ai/blob/master/seq1_1.ipynb\" target=\"_parent\"><img src=\"https://colab.research.google.com/assets/colab-badge.svg\" alt=\"Open In Colab\"/></a>"
      ]
    },
    {
      "cell_type": "code",
      "metadata": {
        "colab": {
          "base_uri": "https://localhost:8080/"
        },
        "id": "jSra2vnRVDNn",
        "outputId": "7878d43c-da1e-41c1-842e-71326aa1df61"
      },
      "source": [
        "import pandas as pd\r\n",
        "from google.colab import drive\r\n",
        "drive.mount('/content/drive')"
      ],
      "execution_count": null,
      "outputs": [
        {
          "output_type": "stream",
          "text": [
            "Mounted at /content/drive\n"
          ],
          "name": "stdout"
        }
      ]
    },
    {
      "cell_type": "code",
      "metadata": {
        "colab": {
          "base_uri": "https://localhost:8080/",
          "height": 204
        },
        "id": "v_Fm74GCVN03",
        "outputId": "20d9c918-83da-4614-c9b2-c7eee7929b5c"
      },
      "source": [
        "dat_df = pd.read_csv('/content/drive/MyDrive/energydata.csv',sep=',')\r\n",
        "dat_df.head()"
      ],
      "execution_count": null,
      "outputs": [
        {
          "output_type": "execute_result",
          "data": {
            "text/html": [
              "<div>\n",
              "<style scoped>\n",
              "    .dataframe tbody tr th:only-of-type {\n",
              "        vertical-align: middle;\n",
              "    }\n",
              "\n",
              "    .dataframe tbody tr th {\n",
              "        vertical-align: top;\n",
              "    }\n",
              "\n",
              "    .dataframe thead th {\n",
              "        text-align: right;\n",
              "    }\n",
              "</style>\n",
              "<table border=\"1\" class=\"dataframe\">\n",
              "  <thead>\n",
              "    <tr style=\"text-align: right;\">\n",
              "      <th></th>\n",
              "      <th>date</th>\n",
              "      <th>Appliances</th>\n",
              "      <th>lights</th>\n",
              "      <th>T1</th>\n",
              "      <th>RH_1</th>\n",
              "      <th>T2</th>\n",
              "      <th>RH_2</th>\n",
              "      <th>T3</th>\n",
              "      <th>RH_3</th>\n",
              "      <th>T4</th>\n",
              "      <th>RH_4</th>\n",
              "      <th>T5</th>\n",
              "      <th>RH_5</th>\n",
              "    </tr>\n",
              "  </thead>\n",
              "  <tbody>\n",
              "    <tr>\n",
              "      <th>0</th>\n",
              "      <td>2016-01-11 17:00:00</td>\n",
              "      <td>60</td>\n",
              "      <td>30</td>\n",
              "      <td>19.89</td>\n",
              "      <td>47.596667</td>\n",
              "      <td>19.2</td>\n",
              "      <td>44.790000</td>\n",
              "      <td>19.79</td>\n",
              "      <td>44.730000</td>\n",
              "      <td>19.000000</td>\n",
              "      <td>45.566667</td>\n",
              "      <td>17.166667</td>\n",
              "      <td>55.20</td>\n",
              "    </tr>\n",
              "    <tr>\n",
              "      <th>1</th>\n",
              "      <td>2016-01-11 17:10:00</td>\n",
              "      <td>60</td>\n",
              "      <td>30</td>\n",
              "      <td>19.89</td>\n",
              "      <td>46.693333</td>\n",
              "      <td>19.2</td>\n",
              "      <td>44.722500</td>\n",
              "      <td>19.79</td>\n",
              "      <td>44.790000</td>\n",
              "      <td>19.000000</td>\n",
              "      <td>45.992500</td>\n",
              "      <td>17.166667</td>\n",
              "      <td>55.20</td>\n",
              "    </tr>\n",
              "    <tr>\n",
              "      <th>2</th>\n",
              "      <td>2016-01-11 17:20:00</td>\n",
              "      <td>50</td>\n",
              "      <td>30</td>\n",
              "      <td>19.89</td>\n",
              "      <td>46.300000</td>\n",
              "      <td>19.2</td>\n",
              "      <td>44.626667</td>\n",
              "      <td>19.79</td>\n",
              "      <td>44.933333</td>\n",
              "      <td>18.926667</td>\n",
              "      <td>45.890000</td>\n",
              "      <td>17.166667</td>\n",
              "      <td>55.09</td>\n",
              "    </tr>\n",
              "    <tr>\n",
              "      <th>3</th>\n",
              "      <td>2016-01-11 17:30:00</td>\n",
              "      <td>50</td>\n",
              "      <td>40</td>\n",
              "      <td>19.89</td>\n",
              "      <td>46.066667</td>\n",
              "      <td>19.2</td>\n",
              "      <td>44.590000</td>\n",
              "      <td>19.79</td>\n",
              "      <td>45.000000</td>\n",
              "      <td>18.890000</td>\n",
              "      <td>45.723333</td>\n",
              "      <td>17.166667</td>\n",
              "      <td>55.09</td>\n",
              "    </tr>\n",
              "    <tr>\n",
              "      <th>4</th>\n",
              "      <td>2016-01-11 17:40:00</td>\n",
              "      <td>60</td>\n",
              "      <td>40</td>\n",
              "      <td>19.89</td>\n",
              "      <td>46.333333</td>\n",
              "      <td>19.2</td>\n",
              "      <td>44.530000</td>\n",
              "      <td>19.79</td>\n",
              "      <td>45.000000</td>\n",
              "      <td>18.890000</td>\n",
              "      <td>45.530000</td>\n",
              "      <td>17.200000</td>\n",
              "      <td>55.09</td>\n",
              "    </tr>\n",
              "  </tbody>\n",
              "</table>\n",
              "</div>"
            ],
            "text/plain": [
              "                  date  Appliances  lights  ...       RH_4         T5   RH_5\n",
              "0  2016-01-11 17:00:00          60      30  ...  45.566667  17.166667  55.20\n",
              "1  2016-01-11 17:10:00          60      30  ...  45.992500  17.166667  55.20\n",
              "2  2016-01-11 17:20:00          50      30  ...  45.890000  17.166667  55.09\n",
              "3  2016-01-11 17:30:00          50      40  ...  45.723333  17.166667  55.09\n",
              "4  2016-01-11 17:40:00          60      40  ...  45.530000  17.200000  55.09\n",
              "\n",
              "[5 rows x 13 columns]"
            ]
          },
          "metadata": {
            "tags": []
          },
          "execution_count": 10
        }
      ]
    },
    {
      "cell_type": "code",
      "metadata": {
        "colab": {
          "base_uri": "https://localhost:8080/",
          "height": 142
        },
        "id": "7lv2odByVQZR",
        "outputId": "71c671fd-48d1-4e4d-b46c-d38a65f22263"
      },
      "source": [
        "#전처리\r\n",
        "dat_df[8585:8588]"
      ],
      "execution_count": null,
      "outputs": [
        {
          "output_type": "execute_result",
          "data": {
            "text/html": [
              "<div>\n",
              "<style scoped>\n",
              "    .dataframe tbody tr th:only-of-type {\n",
              "        vertical-align: middle;\n",
              "    }\n",
              "\n",
              "    .dataframe tbody tr th {\n",
              "        vertical-align: top;\n",
              "    }\n",
              "\n",
              "    .dataframe thead th {\n",
              "        text-align: right;\n",
              "    }\n",
              "</style>\n",
              "<table border=\"1\" class=\"dataframe\">\n",
              "  <thead>\n",
              "    <tr style=\"text-align: right;\">\n",
              "      <th></th>\n",
              "      <th>date</th>\n",
              "      <th>Appliances</th>\n",
              "      <th>lights</th>\n",
              "      <th>T1</th>\n",
              "      <th>RH_1</th>\n",
              "      <th>T2</th>\n",
              "      <th>RH_2</th>\n",
              "      <th>T3</th>\n",
              "      <th>RH_3</th>\n",
              "      <th>T4</th>\n",
              "      <th>RH_4</th>\n",
              "      <th>T5</th>\n",
              "      <th>RH_5</th>\n",
              "    </tr>\n",
              "  </thead>\n",
              "  <tbody>\n",
              "    <tr>\n",
              "      <th>8585</th>\n",
              "      <td>2016-03-11 07:50:00</td>\n",
              "      <td>70</td>\n",
              "      <td>0</td>\n",
              "      <td>20.2</td>\n",
              "      <td>37.160000</td>\n",
              "      <td>16.5</td>\n",
              "      <td>42.430000</td>\n",
              "      <td>20.39</td>\n",
              "      <td>37.500000</td>\n",
              "      <td>19.700000</td>\n",
              "      <td>34.360000</td>\n",
              "      <td>18.000000</td>\n",
              "      <td>46.660000</td>\n",
              "    </tr>\n",
              "    <tr>\n",
              "      <th>8586</th>\n",
              "      <td>2016-03-11 08:00:00</td>\n",
              "      <td>280</td>\n",
              "      <td>0</td>\n",
              "      <td>20.2</td>\n",
              "      <td>37.463333</td>\n",
              "      <td>16.6</td>\n",
              "      <td>42.766667</td>\n",
              "      <td>NaN</td>\n",
              "      <td>37.500000</td>\n",
              "      <td>19.700000</td>\n",
              "      <td>34.633333</td>\n",
              "      <td>18.066667</td>\n",
              "      <td>46.193333</td>\n",
              "    </tr>\n",
              "    <tr>\n",
              "      <th>8587</th>\n",
              "      <td>2016-03-11 08:10:00</td>\n",
              "      <td>180</td>\n",
              "      <td>10</td>\n",
              "      <td>20.2</td>\n",
              "      <td>37.530000</td>\n",
              "      <td>16.6</td>\n",
              "      <td>42.966667</td>\n",
              "      <td>20.29</td>\n",
              "      <td>37.363333</td>\n",
              "      <td>19.666667</td>\n",
              "      <td>34.723333</td>\n",
              "      <td>18.100000</td>\n",
              "      <td>45.723333</td>\n",
              "    </tr>\n",
              "  </tbody>\n",
              "</table>\n",
              "</div>"
            ],
            "text/plain": [
              "                     date  Appliances  lights  ...       RH_4         T5       RH_5\n",
              "8585  2016-03-11 07:50:00          70       0  ...  34.360000  18.000000  46.660000\n",
              "8586  2016-03-11 08:00:00         280       0  ...  34.633333  18.066667  46.193333\n",
              "8587  2016-03-11 08:10:00         180      10  ...  34.723333  18.100000  45.723333\n",
              "\n",
              "[3 rows x 13 columns]"
            ]
          },
          "metadata": {
            "tags": []
          },
          "execution_count": 11
        }
      ]
    },
    {
      "cell_type": "code",
      "metadata": {
        "colab": {
          "base_uri": "https://localhost:8080/",
          "height": 142
        },
        "id": "fc4xKCLpVZmQ",
        "outputId": "1d9e9bcb-d4f3-4475-e6a5-ef395507ae7e"
      },
      "source": [
        "#결손값 전후 2행 추출\r\n",
        "dat_df[8585:8588].fillna(method='ffill')   #fillna(method='ffill') -> 전행값을 입력한다."
      ],
      "execution_count": null,
      "outputs": [
        {
          "output_type": "execute_result",
          "data": {
            "text/html": [
              "<div>\n",
              "<style scoped>\n",
              "    .dataframe tbody tr th:only-of-type {\n",
              "        vertical-align: middle;\n",
              "    }\n",
              "\n",
              "    .dataframe tbody tr th {\n",
              "        vertical-align: top;\n",
              "    }\n",
              "\n",
              "    .dataframe thead th {\n",
              "        text-align: right;\n",
              "    }\n",
              "</style>\n",
              "<table border=\"1\" class=\"dataframe\">\n",
              "  <thead>\n",
              "    <tr style=\"text-align: right;\">\n",
              "      <th></th>\n",
              "      <th>date</th>\n",
              "      <th>Appliances</th>\n",
              "      <th>lights</th>\n",
              "      <th>T1</th>\n",
              "      <th>RH_1</th>\n",
              "      <th>T2</th>\n",
              "      <th>RH_2</th>\n",
              "      <th>T3</th>\n",
              "      <th>RH_3</th>\n",
              "      <th>T4</th>\n",
              "      <th>RH_4</th>\n",
              "      <th>T5</th>\n",
              "      <th>RH_5</th>\n",
              "    </tr>\n",
              "  </thead>\n",
              "  <tbody>\n",
              "    <tr>\n",
              "      <th>8585</th>\n",
              "      <td>2016-03-11 07:50:00</td>\n",
              "      <td>70</td>\n",
              "      <td>0</td>\n",
              "      <td>20.2</td>\n",
              "      <td>37.160000</td>\n",
              "      <td>16.5</td>\n",
              "      <td>42.430000</td>\n",
              "      <td>20.39</td>\n",
              "      <td>37.500000</td>\n",
              "      <td>19.700000</td>\n",
              "      <td>34.360000</td>\n",
              "      <td>18.000000</td>\n",
              "      <td>46.660000</td>\n",
              "    </tr>\n",
              "    <tr>\n",
              "      <th>8586</th>\n",
              "      <td>2016-03-11 08:00:00</td>\n",
              "      <td>280</td>\n",
              "      <td>0</td>\n",
              "      <td>20.2</td>\n",
              "      <td>37.463333</td>\n",
              "      <td>16.6</td>\n",
              "      <td>42.766667</td>\n",
              "      <td>20.39</td>\n",
              "      <td>37.500000</td>\n",
              "      <td>19.700000</td>\n",
              "      <td>34.633333</td>\n",
              "      <td>18.066667</td>\n",
              "      <td>46.193333</td>\n",
              "    </tr>\n",
              "    <tr>\n",
              "      <th>8587</th>\n",
              "      <td>2016-03-11 08:10:00</td>\n",
              "      <td>180</td>\n",
              "      <td>10</td>\n",
              "      <td>20.2</td>\n",
              "      <td>37.530000</td>\n",
              "      <td>16.6</td>\n",
              "      <td>42.966667</td>\n",
              "      <td>20.29</td>\n",
              "      <td>37.363333</td>\n",
              "      <td>19.666667</td>\n",
              "      <td>34.723333</td>\n",
              "      <td>18.100000</td>\n",
              "      <td>45.723333</td>\n",
              "    </tr>\n",
              "  </tbody>\n",
              "</table>\n",
              "</div>"
            ],
            "text/plain": [
              "                     date  Appliances  lights  ...       RH_4         T5       RH_5\n",
              "8585  2016-03-11 07:50:00          70       0  ...  34.360000  18.000000  46.660000\n",
              "8586  2016-03-11 08:00:00         280       0  ...  34.633333  18.066667  46.193333\n",
              "8587  2016-03-11 08:10:00         180      10  ...  34.723333  18.100000  45.723333\n",
              "\n",
              "[3 rows x 13 columns]"
            ]
          },
          "metadata": {
            "tags": []
          },
          "execution_count": 12
        }
      ]
    },
    {
      "cell_type": "code",
      "metadata": {
        "colab": {
          "base_uri": "https://localhost:8080/",
          "height": 142
        },
        "id": "F1oz5WJhVmYJ",
        "outputId": "a44398fe-f035-459c-961f-47532d5fc7d3"
      },
      "source": [
        "#평균치로 보완하는방법\r\n",
        "dat_df = dat_df.interpolate()  #.interpolate() -> 전후 평균치로 보완(기본적으로 선형보완 실시)\r\n",
        "dat_df[8585:8588]"
      ],
      "execution_count": null,
      "outputs": [
        {
          "output_type": "execute_result",
          "data": {
            "text/html": [
              "<div>\n",
              "<style scoped>\n",
              "    .dataframe tbody tr th:only-of-type {\n",
              "        vertical-align: middle;\n",
              "    }\n",
              "\n",
              "    .dataframe tbody tr th {\n",
              "        vertical-align: top;\n",
              "    }\n",
              "\n",
              "    .dataframe thead th {\n",
              "        text-align: right;\n",
              "    }\n",
              "</style>\n",
              "<table border=\"1\" class=\"dataframe\">\n",
              "  <thead>\n",
              "    <tr style=\"text-align: right;\">\n",
              "      <th></th>\n",
              "      <th>date</th>\n",
              "      <th>Appliances</th>\n",
              "      <th>lights</th>\n",
              "      <th>T1</th>\n",
              "      <th>RH_1</th>\n",
              "      <th>T2</th>\n",
              "      <th>RH_2</th>\n",
              "      <th>T3</th>\n",
              "      <th>RH_3</th>\n",
              "      <th>T4</th>\n",
              "      <th>RH_4</th>\n",
              "      <th>T5</th>\n",
              "      <th>RH_5</th>\n",
              "    </tr>\n",
              "  </thead>\n",
              "  <tbody>\n",
              "    <tr>\n",
              "      <th>8585</th>\n",
              "      <td>2016-03-11 07:50:00</td>\n",
              "      <td>70</td>\n",
              "      <td>0</td>\n",
              "      <td>20.2</td>\n",
              "      <td>37.160000</td>\n",
              "      <td>16.5</td>\n",
              "      <td>42.430000</td>\n",
              "      <td>20.39</td>\n",
              "      <td>37.500000</td>\n",
              "      <td>19.700000</td>\n",
              "      <td>34.360000</td>\n",
              "      <td>18.000000</td>\n",
              "      <td>46.660000</td>\n",
              "    </tr>\n",
              "    <tr>\n",
              "      <th>8586</th>\n",
              "      <td>2016-03-11 08:00:00</td>\n",
              "      <td>280</td>\n",
              "      <td>0</td>\n",
              "      <td>20.2</td>\n",
              "      <td>37.463333</td>\n",
              "      <td>16.6</td>\n",
              "      <td>42.766667</td>\n",
              "      <td>20.34</td>\n",
              "      <td>37.500000</td>\n",
              "      <td>19.700000</td>\n",
              "      <td>34.633333</td>\n",
              "      <td>18.066667</td>\n",
              "      <td>46.193333</td>\n",
              "    </tr>\n",
              "    <tr>\n",
              "      <th>8587</th>\n",
              "      <td>2016-03-11 08:10:00</td>\n",
              "      <td>180</td>\n",
              "      <td>10</td>\n",
              "      <td>20.2</td>\n",
              "      <td>37.530000</td>\n",
              "      <td>16.6</td>\n",
              "      <td>42.966667</td>\n",
              "      <td>20.29</td>\n",
              "      <td>37.363333</td>\n",
              "      <td>19.666667</td>\n",
              "      <td>34.723333</td>\n",
              "      <td>18.100000</td>\n",
              "      <td>45.723333</td>\n",
              "    </tr>\n",
              "  </tbody>\n",
              "</table>\n",
              "</div>"
            ],
            "text/plain": [
              "                     date  Appliances  lights  ...       RH_4         T5       RH_5\n",
              "8585  2016-03-11 07:50:00          70       0  ...  34.360000  18.000000  46.660000\n",
              "8586  2016-03-11 08:00:00         280       0  ...  34.633333  18.066667  46.193333\n",
              "8587  2016-03-11 08:10:00         180      10  ...  34.723333  18.100000  45.723333\n",
              "\n",
              "[3 rows x 13 columns]"
            ]
          },
          "metadata": {
            "tags": []
          },
          "execution_count": 13
        }
      ]
    },
    {
      "cell_type": "code",
      "metadata": {
        "colab": {
          "base_uri": "https://localhost:8080/",
          "height": 204
        },
        "id": "eSyCmbN7V4pI",
        "outputId": "b9cc444c-7607-4548-8ce5-0809733e280f"
      },
      "source": [
        "dat_df['date'] = pd.to_datetime(dat_df['date'],format='%Y-%m-%d %H:%M:%S')\r\n",
        "dat_df['dif_min'] = dat_df['date'].diff().dt.total_seconds()/60 #diff 한행전값과의 차이 계산\r\n",
        "dat_df['dif_min'] = dat_df['dif_min'].fillna(0)  #fillna -> 결손값 Nan 을 0으로 보완 \r\n",
        "dat_df['cum_min'] = dat_df['dif_min'].cumsum()  #dif_min의 누적합계 구하기\r\n",
        "dat_df[['date','cum_min']].head()"
      ],
      "execution_count": null,
      "outputs": [
        {
          "output_type": "execute_result",
          "data": {
            "text/html": [
              "<div>\n",
              "<style scoped>\n",
              "    .dataframe tbody tr th:only-of-type {\n",
              "        vertical-align: middle;\n",
              "    }\n",
              "\n",
              "    .dataframe tbody tr th {\n",
              "        vertical-align: top;\n",
              "    }\n",
              "\n",
              "    .dataframe thead th {\n",
              "        text-align: right;\n",
              "    }\n",
              "</style>\n",
              "<table border=\"1\" class=\"dataframe\">\n",
              "  <thead>\n",
              "    <tr style=\"text-align: right;\">\n",
              "      <th></th>\n",
              "      <th>date</th>\n",
              "      <th>cum_min</th>\n",
              "    </tr>\n",
              "  </thead>\n",
              "  <tbody>\n",
              "    <tr>\n",
              "      <th>0</th>\n",
              "      <td>2016-01-11 17:00:00</td>\n",
              "      <td>0.0</td>\n",
              "    </tr>\n",
              "    <tr>\n",
              "      <th>1</th>\n",
              "      <td>2016-01-11 17:10:00</td>\n",
              "      <td>10.0</td>\n",
              "    </tr>\n",
              "    <tr>\n",
              "      <th>2</th>\n",
              "      <td>2016-01-11 17:20:00</td>\n",
              "      <td>20.0</td>\n",
              "    </tr>\n",
              "    <tr>\n",
              "      <th>3</th>\n",
              "      <td>2016-01-11 17:30:00</td>\n",
              "      <td>30.0</td>\n",
              "    </tr>\n",
              "    <tr>\n",
              "      <th>4</th>\n",
              "      <td>2016-01-11 17:40:00</td>\n",
              "      <td>40.0</td>\n",
              "    </tr>\n",
              "  </tbody>\n",
              "</table>\n",
              "</div>"
            ],
            "text/plain": [
              "                 date  cum_min\n",
              "0 2016-01-11 17:00:00      0.0\n",
              "1 2016-01-11 17:10:00     10.0\n",
              "2 2016-01-11 17:20:00     20.0\n",
              "3 2016-01-11 17:30:00     30.0\n",
              "4 2016-01-11 17:40:00     40.0"
            ]
          },
          "metadata": {
            "tags": []
          },
          "execution_count": 14
        }
      ]
    },
    {
      "cell_type": "code",
      "metadata": {
        "colab": {
          "base_uri": "https://localhost:8080/",
          "height": 739
        },
        "id": "GaJGjVucWYBI",
        "outputId": "59f97f38-f141-417b-c46e-92c3c2c17496"
      },
      "source": [
        "#6시간 단위로 각 항목의 통계량을 계산\r\n",
        "#평균치 계산\r\n",
        "\r\n",
        "dat_df['cum_6hour'] = (dat_df['cum_min']/360).round(2).astype(int)\r\n",
        "print(dat_df['cum_6hour'].unique())\r\n",
        "\r\n",
        "dat_df = dat_df.drop(['date','dif_min','cum_min'],axis=1)\r\n",
        "dat_df_mean = dat_df.groupby('cum_6hour').mean()\r\n",
        "\r\n",
        "print(dat_df_mean.shape) #(484, 12)\r\n",
        "dat_df_mean.head()"
      ],
      "execution_count": null,
      "outputs": [
        {
          "output_type": "stream",
          "text": [
            "[  0   1   2   3   4   5   6   7   8   9  10  11  12  13  14  15  16  17\n",
            "  18  19  20  21  22  23  24  25  26  27  28  29  30  31  32  33  34  35\n",
            "  36  37  38  39  40  41  42  43  44  45  46  47  48  49  50  51  52  53\n",
            "  54  55  56  57  58  59  60  61  62  63  64  65  66  67  68  69  70  71\n",
            "  72  73  74  75  76  77  78  79  80  81  82  83  84  85  86  87  88  89\n",
            "  90  91  92  93  94  95  96  97  98  99 100 101 102 103 104 105 106 107\n",
            " 108 109 110 111 112 113 114 115 116 117 118 119 120 121 122 123 124 125\n",
            " 126 127 128 129 130 131 132 133 134 135 136 137 138 139 140 141 142 143\n",
            " 144 145 146 147 148 149 150 151 152 153 154 155 156 157 158 159 160 161\n",
            " 162 163 164 165 166 167 168 169 170 171 172 173 174 175 176 177 178 179\n",
            " 180 181 182 183 184 185 186 187 188 189 190 191 192 193 194 195 196 197\n",
            " 198 199 200 201 202 203 204 205 206 207 208 209 210 211 212 213 214 215\n",
            " 216 217 218 219 220 221 222 223 224 225 226 227 228 229 230 231 232 233\n",
            " 234 235 236 237 238 239 240 241 242 243 244 245 246 247 248 249 250 251\n",
            " 252 253 254 255 256 257 258 259 260 261 262 263 264 265 266 267 268 269\n",
            " 270 271 272 273 274 275 276 277 278 279 280 281 282 283 284 285 286 287\n",
            " 288 289 290 291 292 293 294 295 296 297 298 299 300 301 302 303 304 305\n",
            " 306 307 308 309 310 311 312 313 314 315 316 317 318 319 320 321 322 323\n",
            " 324 325 326 327 328 329 330 331 332 333 334 335 336 337 338 339 340 341\n",
            " 342 343 344 345 346 347 348 349 350 351 352 353 354 355 356 357 358 359\n",
            " 360 361 362 363 364 365 366 367 368 369 370 371 372 373 374 375 376 377\n",
            " 378 379 380 381 382 383 384 385 386 387 388 389 390 391 392 393 394 395\n",
            " 396 397 398 399 400 401 402 403 404 405 406 407 408 409 410 411 412 413\n",
            " 414 415 416 417 418 419 420 421 422 423 424 425 426 427 428 429 430 431\n",
            " 432 433 434 435 436 437 438 439 440 441 442 443 444 445 446 447 448 449\n",
            " 450 451 452 453 454 455 456 457 458 459 460 461 462 463 464 465 466 467\n",
            " 468 469 470 471 472 473 474 475 476 477 478 479 480 481 482 483]\n",
            "(484, 12)\n"
          ],
          "name": "stdout"
        },
        {
          "output_type": "execute_result",
          "data": {
            "text/html": [
              "<div>\n",
              "<style scoped>\n",
              "    .dataframe tbody tr th:only-of-type {\n",
              "        vertical-align: middle;\n",
              "    }\n",
              "\n",
              "    .dataframe tbody tr th {\n",
              "        vertical-align: top;\n",
              "    }\n",
              "\n",
              "    .dataframe thead th {\n",
              "        text-align: right;\n",
              "    }\n",
              "</style>\n",
              "<table border=\"1\" class=\"dataframe\">\n",
              "  <thead>\n",
              "    <tr style=\"text-align: right;\">\n",
              "      <th></th>\n",
              "      <th>Appliances</th>\n",
              "      <th>lights</th>\n",
              "      <th>T1</th>\n",
              "      <th>RH_1</th>\n",
              "      <th>T2</th>\n",
              "      <th>RH_2</th>\n",
              "      <th>T3</th>\n",
              "      <th>RH_3</th>\n",
              "      <th>T4</th>\n",
              "      <th>RH_4</th>\n",
              "      <th>T5</th>\n",
              "      <th>RH_5</th>\n",
              "    </tr>\n",
              "    <tr>\n",
              "      <th>cum_6hour</th>\n",
              "      <th></th>\n",
              "      <th></th>\n",
              "      <th></th>\n",
              "      <th></th>\n",
              "      <th></th>\n",
              "      <th></th>\n",
              "      <th></th>\n",
              "      <th></th>\n",
              "      <th></th>\n",
              "      <th></th>\n",
              "      <th></th>\n",
              "      <th></th>\n",
              "    </tr>\n",
              "  </thead>\n",
              "  <tbody>\n",
              "    <tr>\n",
              "      <th>0</th>\n",
              "      <td>150.000000</td>\n",
              "      <td>31.944444</td>\n",
              "      <td>20.688056</td>\n",
              "      <td>47.345394</td>\n",
              "      <td>20.023148</td>\n",
              "      <td>44.973287</td>\n",
              "      <td>20.111481</td>\n",
              "      <td>46.041875</td>\n",
              "      <td>19.255972</td>\n",
              "      <td>47.379074</td>\n",
              "      <td>17.761597</td>\n",
              "      <td>60.359861</td>\n",
              "    </tr>\n",
              "    <tr>\n",
              "      <th>1</th>\n",
              "      <td>81.944444</td>\n",
              "      <td>7.222222</td>\n",
              "      <td>20.858287</td>\n",
              "      <td>45.627708</td>\n",
              "      <td>20.227315</td>\n",
              "      <td>44.286435</td>\n",
              "      <td>20.213588</td>\n",
              "      <td>45.530833</td>\n",
              "      <td>20.740093</td>\n",
              "      <td>46.503634</td>\n",
              "      <td>18.898519</td>\n",
              "      <td>50.261273</td>\n",
              "    </tr>\n",
              "    <tr>\n",
              "      <th>2</th>\n",
              "      <td>83.333333</td>\n",
              "      <td>5.555556</td>\n",
              "      <td>19.860463</td>\n",
              "      <td>47.019213</td>\n",
              "      <td>19.140608</td>\n",
              "      <td>44.876698</td>\n",
              "      <td>20.149722</td>\n",
              "      <td>45.269306</td>\n",
              "      <td>19.349259</td>\n",
              "      <td>45.893611</td>\n",
              "      <td>18.163125</td>\n",
              "      <td>50.817454</td>\n",
              "    </tr>\n",
              "    <tr>\n",
              "      <th>3</th>\n",
              "      <td>101.111111</td>\n",
              "      <td>0.000000</td>\n",
              "      <td>20.037500</td>\n",
              "      <td>44.843009</td>\n",
              "      <td>19.103377</td>\n",
              "      <td>43.495476</td>\n",
              "      <td>19.907778</td>\n",
              "      <td>44.802407</td>\n",
              "      <td>19.748287</td>\n",
              "      <td>43.536204</td>\n",
              "      <td>17.835370</td>\n",
              "      <td>50.444111</td>\n",
              "    </tr>\n",
              "    <tr>\n",
              "      <th>4</th>\n",
              "      <td>78.611111</td>\n",
              "      <td>7.222222</td>\n",
              "      <td>19.947963</td>\n",
              "      <td>43.275394</td>\n",
              "      <td>19.113860</td>\n",
              "      <td>42.606633</td>\n",
              "      <td>19.788704</td>\n",
              "      <td>44.312037</td>\n",
              "      <td>19.555093</td>\n",
              "      <td>42.804491</td>\n",
              "      <td>17.477870</td>\n",
              "      <td>50.732546</td>\n",
              "    </tr>\n",
              "  </tbody>\n",
              "</table>\n",
              "</div>"
            ],
            "text/plain": [
              "           Appliances     lights         T1  ...       RH_4         T5       RH_5\n",
              "cum_6hour                                    ...                                 \n",
              "0          150.000000  31.944444  20.688056  ...  47.379074  17.761597  60.359861\n",
              "1           81.944444   7.222222  20.858287  ...  46.503634  18.898519  50.261273\n",
              "2           83.333333   5.555556  19.860463  ...  45.893611  18.163125  50.817454\n",
              "3          101.111111   0.000000  20.037500  ...  43.536204  17.835370  50.444111\n",
              "4           78.611111   7.222222  19.947963  ...  42.804491  17.477870  50.732546\n",
              "\n",
              "[5 rows x 12 columns]"
            ]
          },
          "metadata": {
            "tags": []
          },
          "execution_count": 15
        }
      ]
    },
    {
      "cell_type": "code",
      "metadata": {
        "id": "TK49iUWlZLSz"
      },
      "source": [
        "#6시간 단위 표준편차\r\n",
        "\r\n",
        "dat_df_std = dat_df.groupby('cum_6hour').std()"
      ],
      "execution_count": null,
      "outputs": []
    },
    {
      "cell_type": "code",
      "metadata": {
        "colab": {
          "base_uri": "https://localhost:8080/"
        },
        "id": "D7T4wparZoNQ",
        "outputId": "8fc1d8f7-9f77-4ab9-835f-3a37d2900ab8"
      },
      "source": [
        "print(dat_df_std.shape) #(484, 12)\r\n",
        "print(dat_df_std.head())\r\n"
      ],
      "execution_count": null,
      "outputs": [
        {
          "output_type": "stream",
          "text": [
            "(484, 12)\n",
            "           Appliances     lights        T1  ...      RH_4        T5      RH_5\n",
            "cum_6hour                                   ...                              \n",
            "0          131.366445  13.901582  0.672443  ...  1.282966  0.791008  9.891611\n",
            "1          101.497908   9.137399  0.460572  ...  0.511257  0.272610  0.339389\n",
            "2          104.853639   9.085135  0.103157  ...  0.776746  0.178471  1.138170\n",
            "3           95.999339   0.000000  0.059026  ...  0.622986  0.164863  0.792715\n",
            "4           83.773599  12.097488  0.151195  ...  0.430826  0.075740  0.247231\n",
            "\n",
            "[5 rows x 12 columns]\n"
          ],
          "name": "stdout"
        }
      ]
    },
    {
      "cell_type": "code",
      "metadata": {
        "colab": {
          "base_uri": "https://localhost:8080/"
        },
        "id": "-jOC74C_Z066",
        "outputId": "323d44b9-76be-4d33-f6eb-ae5d57cb80e5"
      },
      "source": [
        "dat_features = pd.merge(dat_df_mean, dat_df_std,left_index=True,right_index=True)\r\n",
        "\r\n",
        "print(dat_features.shape) #(484, 24)\r\n",
        "print(dat_features.head()) #dat_df_mean에는 _x dat_df_std에는 _y로 구분\r\n"
      ],
      "execution_count": null,
      "outputs": [
        {
          "output_type": "stream",
          "text": [
            "(484, 24)\n",
            "           Appliances_x   lights_x       T1_x  ...    RH_4_y      T5_y    RH_5_y\n",
            "cum_6hour                                      ...                              \n",
            "0            150.000000  31.944444  20.688056  ...  1.282966  0.791008  9.891611\n",
            "1             81.944444   7.222222  20.858287  ...  0.511257  0.272610  0.339389\n",
            "2             83.333333   5.555556  19.860463  ...  0.776746  0.178471  1.138170\n",
            "3            101.111111   0.000000  20.037500  ...  0.622986  0.164863  0.792715\n",
            "4             78.611111   7.222222  19.947963  ...  0.430826  0.075740  0.247231\n",
            "\n",
            "[5 rows x 24 columns]\n"
          ],
          "name": "stdout"
        }
      ]
    },
    {
      "cell_type": "code",
      "metadata": {
        "id": "MuAgN1oGaSnP"
      },
      "source": [
        "#슬라이드 창을 사용한 특징량 추출\r\n",
        "tmp = dat_df"
      ],
      "execution_count": null,
      "outputs": []
    }
  ]
}