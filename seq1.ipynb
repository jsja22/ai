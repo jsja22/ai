{
  "nbformat": 4,
  "nbformat_minor": 0,
  "metadata": {
    "colab": {
      "name": "seq1.ipynb",
      "provenance": [],
      "collapsed_sections": [],
      "authorship_tag": "ABX9TyM8Phwr7yxq5VeQay+HUXGE",
      "include_colab_link": true
    },
    "kernelspec": {
      "display_name": "Python 3",
      "name": "python3"
    }
  },
  "cells": [
    {
      "cell_type": "markdown",
      "metadata": {
        "id": "view-in-github",
        "colab_type": "text"
      },
      "source": [
        "<a href=\"https://colab.research.google.com/github/jsja22/ai/blob/master/seq1.ipynb\" target=\"_parent\"><img src=\"https://colab.research.google.com/assets/colab-badge.svg\" alt=\"Open In Colab\"/></a>"
      ]
    },
    {
      "cell_type": "code",
      "metadata": {
        "colab": {
          "base_uri": "https://localhost:8080/"
        },
        "id": "CZ3oVhrQJnH_",
        "outputId": "e4e795a4-e9c2-458b-e718-581f721ae42d"
      },
      "source": [
        "import pandas as pd\r\n",
        "from google.colab import drive\r\n",
        "drive.mount('/content/drive')"
      ],
      "execution_count": null,
      "outputs": [
        {
          "output_type": "stream",
          "text": [
            "Mounted at /content/drive\n"
          ],
          "name": "stdout"
        }
      ]
    },
    {
      "cell_type": "code",
      "metadata": {
        "colab": {
          "background_save": true
        },
        "id": "L9f3Ct2hSYJc",
        "outputId": "35b4e6ba-9c42-47da-be29-fbd6cc8179a9"
      },
      "source": [
        "dat_df = pd.read_csv('/content/drive/MyDrive/energydata.csv',sep=',')\r\n",
        "dat_df.head()"
      ],
      "execution_count": null,
      "outputs": [
        {
          "output_type": "execute_result",
          "data": {
            "text/html": [
              "<div>\n",
              "<style scoped>\n",
              "    .dataframe tbody tr th:only-of-type {\n",
              "        vertical-align: middle;\n",
              "    }\n",
              "\n",
              "    .dataframe tbody tr th {\n",
              "        vertical-align: top;\n",
              "    }\n",
              "\n",
              "    .dataframe thead th {\n",
              "        text-align: right;\n",
              "    }\n",
              "</style>\n",
              "<table border=\"1\" class=\"dataframe\">\n",
              "  <thead>\n",
              "    <tr style=\"text-align: right;\">\n",
              "      <th></th>\n",
              "      <th>date</th>\n",
              "      <th>Appliances</th>\n",
              "      <th>lights</th>\n",
              "      <th>T1</th>\n",
              "      <th>RH_1</th>\n",
              "      <th>T2</th>\n",
              "      <th>RH_2</th>\n",
              "      <th>T3</th>\n",
              "      <th>RH_3</th>\n",
              "      <th>T4</th>\n",
              "      <th>RH_4</th>\n",
              "      <th>T5</th>\n",
              "      <th>RH_5</th>\n",
              "    </tr>\n",
              "  </thead>\n",
              "  <tbody>\n",
              "    <tr>\n",
              "      <th>0</th>\n",
              "      <td>2016-01-11 17:00:00</td>\n",
              "      <td>60</td>\n",
              "      <td>30</td>\n",
              "      <td>19.89</td>\n",
              "      <td>47.596667</td>\n",
              "      <td>19.2</td>\n",
              "      <td>44.790000</td>\n",
              "      <td>19.79</td>\n",
              "      <td>44.730000</td>\n",
              "      <td>19.000000</td>\n",
              "      <td>45.566667</td>\n",
              "      <td>17.166667</td>\n",
              "      <td>55.20</td>\n",
              "    </tr>\n",
              "    <tr>\n",
              "      <th>1</th>\n",
              "      <td>2016-01-11 17:10:00</td>\n",
              "      <td>60</td>\n",
              "      <td>30</td>\n",
              "      <td>19.89</td>\n",
              "      <td>46.693333</td>\n",
              "      <td>19.2</td>\n",
              "      <td>44.722500</td>\n",
              "      <td>19.79</td>\n",
              "      <td>44.790000</td>\n",
              "      <td>19.000000</td>\n",
              "      <td>45.992500</td>\n",
              "      <td>17.166667</td>\n",
              "      <td>55.20</td>\n",
              "    </tr>\n",
              "    <tr>\n",
              "      <th>2</th>\n",
              "      <td>2016-01-11 17:20:00</td>\n",
              "      <td>50</td>\n",
              "      <td>30</td>\n",
              "      <td>19.89</td>\n",
              "      <td>46.300000</td>\n",
              "      <td>19.2</td>\n",
              "      <td>44.626667</td>\n",
              "      <td>19.79</td>\n",
              "      <td>44.933333</td>\n",
              "      <td>18.926667</td>\n",
              "      <td>45.890000</td>\n",
              "      <td>17.166667</td>\n",
              "      <td>55.09</td>\n",
              "    </tr>\n",
              "    <tr>\n",
              "      <th>3</th>\n",
              "      <td>2016-01-11 17:30:00</td>\n",
              "      <td>50</td>\n",
              "      <td>40</td>\n",
              "      <td>19.89</td>\n",
              "      <td>46.066667</td>\n",
              "      <td>19.2</td>\n",
              "      <td>44.590000</td>\n",
              "      <td>19.79</td>\n",
              "      <td>45.000000</td>\n",
              "      <td>18.890000</td>\n",
              "      <td>45.723333</td>\n",
              "      <td>17.166667</td>\n",
              "      <td>55.09</td>\n",
              "    </tr>\n",
              "    <tr>\n",
              "      <th>4</th>\n",
              "      <td>2016-01-11 17:40:00</td>\n",
              "      <td>60</td>\n",
              "      <td>40</td>\n",
              "      <td>19.89</td>\n",
              "      <td>46.333333</td>\n",
              "      <td>19.2</td>\n",
              "      <td>44.530000</td>\n",
              "      <td>19.79</td>\n",
              "      <td>45.000000</td>\n",
              "      <td>18.890000</td>\n",
              "      <td>45.530000</td>\n",
              "      <td>17.200000</td>\n",
              "      <td>55.09</td>\n",
              "    </tr>\n",
              "  </tbody>\n",
              "</table>\n",
              "</div>"
            ],
            "text/plain": [
              "                  date  Appliances  lights  ...       RH_4         T5   RH_5\n",
              "0  2016-01-11 17:00:00          60      30  ...  45.566667  17.166667  55.20\n",
              "1  2016-01-11 17:10:00          60      30  ...  45.992500  17.166667  55.20\n",
              "2  2016-01-11 17:20:00          50      30  ...  45.890000  17.166667  55.09\n",
              "3  2016-01-11 17:30:00          50      40  ...  45.723333  17.166667  55.09\n",
              "4  2016-01-11 17:40:00          60      40  ...  45.530000  17.200000  55.09\n",
              "\n",
              "[5 rows x 13 columns]"
            ]
          },
          "metadata": {
            "tags": []
          },
          "execution_count": 0
        }
      ]
    },
    {
      "cell_type": "code",
      "metadata": {
        "id": "ru9dEvAJShbX",
        "colab": {
          "base_uri": "https://localhost:8080/"
        },
        "outputId": "f136df17-dd75-4284-c0cb-ecd348f02648"
      },
      "source": [
        "dat_df.columns\r\n",
        "#Index(['date' :날짜, 'Appliances':가전제품 전력사용량, 'lights':조명 전력사용량, 'T1':부억온도\r\n",
        "#  'RH_1':부엌 습도, 'T2': 거실온도, 'RH_2':거실 습도, 'T3':세탁실 온도,\r\n",
        "#       'RH_3': 세탁실 습도, 'T4' : 사무실 온도, 'RH_4' : 사무실 습도, 'T5' : 욕실 온도, 'RH_5' : 욕실 습도],\r\n"
      ],
      "execution_count": null,
      "outputs": [
        {
          "output_type": "execute_result",
          "data": {
            "text/plain": [
              "Index(['date', 'Appliances', 'lights', 'T1', 'RH_1', 'T2', 'RH_2', 'T3',\n",
              "       'RH_3', 'T4', 'RH_4', 'T5', 'RH_5'],\n",
              "      dtype='object')"
            ]
          },
          "metadata": {
            "tags": []
          },
          "execution_count": 3
        }
      ]
    },
    {
      "cell_type": "code",
      "metadata": {
        "colab": {
          "base_uri": "https://localhost:8080/"
        },
        "id": "Tzf10WlrS0Dd",
        "outputId": "2d8da4ca-c801-4c82-9372-50161c69b29e"
      },
      "source": [
        "dat_df.shape"
      ],
      "execution_count": null,
      "outputs": [
        {
          "output_type": "execute_result",
          "data": {
            "text/plain": [
              "(17424, 13)"
            ]
          },
          "metadata": {
            "tags": []
          },
          "execution_count": 4
        }
      ]
    },
    {
      "cell_type": "code",
      "metadata": {
        "colab": {
          "base_uri": "https://localhost:8080/"
        },
        "id": "eX5cvUd1S1Yg",
        "outputId": "82f0397d-66bc-4d5f-be33-3c707b7a0044"
      },
      "source": [
        "dat_df.dtypes #datetime형으로 변환 해줘야함 날짜를"
      ],
      "execution_count": null,
      "outputs": [
        {
          "output_type": "execute_result",
          "data": {
            "text/plain": [
              "date           object\n",
              "Appliances      int64\n",
              "lights          int64\n",
              "T1            float64\n",
              "RH_1          float64\n",
              "T2            float64\n",
              "RH_2          float64\n",
              "T3            float64\n",
              "RH_3          float64\n",
              "T4            float64\n",
              "RH_4          float64\n",
              "T5            float64\n",
              "RH_5          float64\n",
              "dtype: object"
            ]
          },
          "metadata": {
            "tags": []
          },
          "execution_count": 5
        }
      ]
    },
    {
      "cell_type": "code",
      "metadata": {
        "colab": {
          "base_uri": "https://localhost:8080/"
        },
        "id": "G4T723NdS51z",
        "outputId": "1f7fc8d0-0046-49ff-fa98-83e6c3186a2f"
      },
      "source": [
        "dat_df['date'] = pd.to_datetime(dat_df['date'],format='%Y-%m-%d %H:%M:%S')\r\n",
        "print(dat_df['date'].dtypes) #열은 datetime64[ns]로 변환\r\n",
        "print(type(dat_df['date'][0]))     #열의 요소는 <class 'pandas._libs.tslibs.timestamps.Timestamp'>로 변환 \r\n",
        "#date 형의 값은 그대로 사용하지 않고 최초의 날짜와 시간으로 부터의 경과시간으로 변환해서 사용!\r\n",
        "#한행전과의 시간차 계산\r\n"
      ],
      "execution_count": null,
      "outputs": [
        {
          "output_type": "stream",
          "text": [
            "datetime64[ns]\n",
            "<class 'pandas._libs.tslibs.timestamps.Timestamp'>\n"
          ],
          "name": "stdout"
        }
      ]
    },
    {
      "cell_type": "code",
      "metadata": {
        "colab": {
          "base_uri": "https://localhost:8080/"
        },
        "id": "lJLLVqJYS321",
        "outputId": "25453cf4-1276-42e4-c181-41c2fa38c3ee"
      },
      "source": [
        "dat_df['dif_min'] = dat_df['date'].diff().dt.total_seconds()/60 #diff 한행전값과의 차이 계산\r\n",
        "dat_df['dif_min'] = dat_df['dif_min'].fillna(0)  #fillna -> 결손값 Nan 을 0으로 보완 \r\n",
        "print(dat_df['dif_min'].head())\r\n",
        "\r\n"
      ],
      "execution_count": null,
      "outputs": [
        {
          "output_type": "stream",
          "text": [
            "0     0.0\n",
            "1    10.0\n",
            "2    10.0\n",
            "3    10.0\n",
            "4    10.0\n",
            "Name: dif_min, dtype: float64\n"
          ],
          "name": "stdout"
        }
      ]
    },
    {
      "cell_type": "code",
      "metadata": {
        "colab": {
          "base_uri": "https://localhost:8080/",
          "height": 204
        },
        "id": "rC-okk2IS9IM",
        "outputId": "46472b65-ab72-4e03-b7a7-38c708ca2f8b"
      },
      "source": [
        "#경과 시간 계산 \r\n",
        "dat_df['cum_min'] = dat_df['dif_min'].cumsum()  #dif_min의 누적합계 구하기\r\n",
        "dat_df[['date','cum_min']].head()"
      ],
      "execution_count": null,
      "outputs": [
        {
          "output_type": "execute_result",
          "data": {
            "text/html": [
              "<div>\n",
              "<style scoped>\n",
              "    .dataframe tbody tr th:only-of-type {\n",
              "        vertical-align: middle;\n",
              "    }\n",
              "\n",
              "    .dataframe tbody tr th {\n",
              "        vertical-align: top;\n",
              "    }\n",
              "\n",
              "    .dataframe thead th {\n",
              "        text-align: right;\n",
              "    }\n",
              "</style>\n",
              "<table border=\"1\" class=\"dataframe\">\n",
              "  <thead>\n",
              "    <tr style=\"text-align: right;\">\n",
              "      <th></th>\n",
              "      <th>date</th>\n",
              "      <th>cum_min</th>\n",
              "    </tr>\n",
              "  </thead>\n",
              "  <tbody>\n",
              "    <tr>\n",
              "      <th>0</th>\n",
              "      <td>2016-01-11 17:00:00</td>\n",
              "      <td>0.0</td>\n",
              "    </tr>\n",
              "    <tr>\n",
              "      <th>1</th>\n",
              "      <td>2016-01-11 17:10:00</td>\n",
              "      <td>10.0</td>\n",
              "    </tr>\n",
              "    <tr>\n",
              "      <th>2</th>\n",
              "      <td>2016-01-11 17:20:00</td>\n",
              "      <td>20.0</td>\n",
              "    </tr>\n",
              "    <tr>\n",
              "      <th>3</th>\n",
              "      <td>2016-01-11 17:30:00</td>\n",
              "      <td>30.0</td>\n",
              "    </tr>\n",
              "    <tr>\n",
              "      <th>4</th>\n",
              "      <td>2016-01-11 17:40:00</td>\n",
              "      <td>40.0</td>\n",
              "    </tr>\n",
              "  </tbody>\n",
              "</table>\n",
              "</div>"
            ],
            "text/plain": [
              "                 date  cum_min\n",
              "0 2016-01-11 17:00:00      0.0\n",
              "1 2016-01-11 17:10:00     10.0\n",
              "2 2016-01-11 17:20:00     20.0\n",
              "3 2016-01-11 17:30:00     30.0\n",
              "4 2016-01-11 17:40:00     40.0"
            ]
          },
          "metadata": {
            "tags": []
          },
          "execution_count": 9
        }
      ]
    },
    {
      "cell_type": "code",
      "metadata": {
        "colab": {
          "base_uri": "https://localhost:8080/"
        },
        "id": "NLZh73jATa48",
        "outputId": "ee8109f8-b921-452d-c604-3fc2e40a191d"
      },
      "source": [
        "#결손값 확인\r\n",
        "print(dat_df.isnull().sum(axis=1).sort_values(ascending=False))\r\n",
        "print(dat_df.isnull().sum(axis=0))"
      ],
      "execution_count": null,
      "outputs": [
        {
          "output_type": "stream",
          "text": [
            "8586     1\n",
            "11427    1\n",
            "9699     1\n",
            "14047    1\n",
            "8604     1\n",
            "        ..\n",
            "11609    0\n",
            "11608    0\n",
            "11607    0\n",
            "11606    0\n",
            "0        0\n",
            "Length: 17424, dtype: int64\n",
            "date          0\n",
            "Appliances    0\n",
            "lights        0\n",
            "T1            1\n",
            "RH_1          0\n",
            "T2            0\n",
            "RH_2          1\n",
            "T3            2\n",
            "RH_3          0\n",
            "T4            0\n",
            "RH_4          0\n",
            "T5            1\n",
            "RH_5          0\n",
            "dif_min       0\n",
            "cum_min       0\n",
            "dtype: int64\n"
          ],
          "name": "stdout"
        }
      ]
    },
    {
      "cell_type": "code",
      "metadata": {
        "colab": {
          "base_uri": "https://localhost:8080/",
          "height": 297
        },
        "id": "tbVNhCQfT8Da",
        "outputId": "a43a47be-fb35-489c-f637-3ecc3d41735b"
      },
      "source": [
        "#각 항목의 통계량 계산\r\n",
        "dat_df.describe()"
      ],
      "execution_count": null,
      "outputs": [
        {
          "output_type": "execute_result",
          "data": {
            "text/html": [
              "<div>\n",
              "<style scoped>\n",
              "    .dataframe tbody tr th:only-of-type {\n",
              "        vertical-align: middle;\n",
              "    }\n",
              "\n",
              "    .dataframe tbody tr th {\n",
              "        vertical-align: top;\n",
              "    }\n",
              "\n",
              "    .dataframe thead th {\n",
              "        text-align: right;\n",
              "    }\n",
              "</style>\n",
              "<table border=\"1\" class=\"dataframe\">\n",
              "  <thead>\n",
              "    <tr style=\"text-align: right;\">\n",
              "      <th></th>\n",
              "      <th>Appliances</th>\n",
              "      <th>lights</th>\n",
              "      <th>T1</th>\n",
              "      <th>RH_1</th>\n",
              "      <th>T2</th>\n",
              "      <th>RH_2</th>\n",
              "      <th>T3</th>\n",
              "      <th>RH_3</th>\n",
              "      <th>T4</th>\n",
              "      <th>RH_4</th>\n",
              "      <th>T5</th>\n",
              "      <th>RH_5</th>\n",
              "      <th>dif_min</th>\n",
              "      <th>cum_min</th>\n",
              "    </tr>\n",
              "  </thead>\n",
              "  <tbody>\n",
              "    <tr>\n",
              "      <th>count</th>\n",
              "      <td>17424.000000</td>\n",
              "      <td>17424.000000</td>\n",
              "      <td>17423.000000</td>\n",
              "      <td>17424.000000</td>\n",
              "      <td>17424.000000</td>\n",
              "      <td>17423.000000</td>\n",
              "      <td>17422.000000</td>\n",
              "      <td>17424.000000</td>\n",
              "      <td>17424.000000</td>\n",
              "      <td>17424.000000</td>\n",
              "      <td>17423.000000</td>\n",
              "      <td>17424.000000</td>\n",
              "      <td>17424.000000</td>\n",
              "      <td>17424.000000</td>\n",
              "    </tr>\n",
              "    <tr>\n",
              "      <th>mean</th>\n",
              "      <td>97.136134</td>\n",
              "      <td>4.032943</td>\n",
              "      <td>21.370848</td>\n",
              "      <td>39.892301</td>\n",
              "      <td>19.960777</td>\n",
              "      <td>40.209553</td>\n",
              "      <td>21.851889</td>\n",
              "      <td>39.165869</td>\n",
              "      <td>20.437045</td>\n",
              "      <td>38.753288</td>\n",
              "      <td>19.198926</td>\n",
              "      <td>51.053839</td>\n",
              "      <td>9.999426</td>\n",
              "      <td>87115.000000</td>\n",
              "    </tr>\n",
              "    <tr>\n",
              "      <th>std</th>\n",
              "      <td>103.247863</td>\n",
              "      <td>8.131761</td>\n",
              "      <td>1.407637</td>\n",
              "      <td>3.716096</td>\n",
              "      <td>1.949825</td>\n",
              "      <td>3.836293</td>\n",
              "      <td>1.705699</td>\n",
              "      <td>3.210397</td>\n",
              "      <td>1.775985</td>\n",
              "      <td>4.274644</td>\n",
              "      <td>1.525227</td>\n",
              "      <td>9.092618</td>\n",
              "      <td>0.075758</td>\n",
              "      <td>50300.198807</td>\n",
              "    </tr>\n",
              "    <tr>\n",
              "      <th>min</th>\n",
              "      <td>10.000000</td>\n",
              "      <td>0.000000</td>\n",
              "      <td>16.790000</td>\n",
              "      <td>27.023333</td>\n",
              "      <td>16.100000</td>\n",
              "      <td>20.463333</td>\n",
              "      <td>17.200000</td>\n",
              "      <td>30.663333</td>\n",
              "      <td>15.100000</td>\n",
              "      <td>27.660000</td>\n",
              "      <td>15.330000</td>\n",
              "      <td>29.815000</td>\n",
              "      <td>0.000000</td>\n",
              "      <td>0.000000</td>\n",
              "    </tr>\n",
              "    <tr>\n",
              "      <th>25%</th>\n",
              "      <td>50.000000</td>\n",
              "      <td>0.000000</td>\n",
              "      <td>20.600000</td>\n",
              "      <td>37.163333</td>\n",
              "      <td>18.666667</td>\n",
              "      <td>37.863333</td>\n",
              "      <td>20.600000</td>\n",
              "      <td>36.790000</td>\n",
              "      <td>19.338333</td>\n",
              "      <td>35.326667</td>\n",
              "      <td>18.100000</td>\n",
              "      <td>45.400000</td>\n",
              "      <td>10.000000</td>\n",
              "      <td>43557.500000</td>\n",
              "    </tr>\n",
              "    <tr>\n",
              "      <th>50%</th>\n",
              "      <td>60.000000</td>\n",
              "      <td>0.000000</td>\n",
              "      <td>21.390000</td>\n",
              "      <td>39.326667</td>\n",
              "      <td>19.700000</td>\n",
              "      <td>40.360000</td>\n",
              "      <td>21.790000</td>\n",
              "      <td>38.420667</td>\n",
              "      <td>20.390000</td>\n",
              "      <td>38.133333</td>\n",
              "      <td>19.100000</td>\n",
              "      <td>48.900000</td>\n",
              "      <td>10.000000</td>\n",
              "      <td>87115.000000</td>\n",
              "    </tr>\n",
              "    <tr>\n",
              "      <th>75%</th>\n",
              "      <td>100.000000</td>\n",
              "      <td>0.000000</td>\n",
              "      <td>22.200000</td>\n",
              "      <td>42.566875</td>\n",
              "      <td>20.926667</td>\n",
              "      <td>43.000000</td>\n",
              "      <td>22.890000</td>\n",
              "      <td>41.433333</td>\n",
              "      <td>21.500000</td>\n",
              "      <td>41.658333</td>\n",
              "      <td>20.200000</td>\n",
              "      <td>53.830278</td>\n",
              "      <td>10.000000</td>\n",
              "      <td>130672.500000</td>\n",
              "    </tr>\n",
              "    <tr>\n",
              "      <th>max</th>\n",
              "      <td>1080.000000</td>\n",
              "      <td>70.000000</td>\n",
              "      <td>25.700000</td>\n",
              "      <td>63.360000</td>\n",
              "      <td>29.856667</td>\n",
              "      <td>56.026667</td>\n",
              "      <td>27.600000</td>\n",
              "      <td>50.163333</td>\n",
              "      <td>26.200000</td>\n",
              "      <td>51.090000</td>\n",
              "      <td>25.745000</td>\n",
              "      <td>96.321667</td>\n",
              "      <td>10.000000</td>\n",
              "      <td>174230.000000</td>\n",
              "    </tr>\n",
              "  </tbody>\n",
              "</table>\n",
              "</div>"
            ],
            "text/plain": [
              "         Appliances        lights  ...       dif_min        cum_min\n",
              "count  17424.000000  17424.000000  ...  17424.000000   17424.000000\n",
              "mean      97.136134      4.032943  ...      9.999426   87115.000000\n",
              "std      103.247863      8.131761  ...      0.075758   50300.198807\n",
              "min       10.000000      0.000000  ...      0.000000       0.000000\n",
              "25%       50.000000      0.000000  ...     10.000000   43557.500000\n",
              "50%       60.000000      0.000000  ...     10.000000   87115.000000\n",
              "75%      100.000000      0.000000  ...     10.000000  130672.500000\n",
              "max     1080.000000     70.000000  ...     10.000000  174230.000000\n",
              "\n",
              "[8 rows x 14 columns]"
            ]
          },
          "metadata": {
            "tags": []
          },
          "execution_count": 12
        }
      ]
    },
    {
      "cell_type": "code",
      "metadata": {
        "colab": {
          "base_uri": "https://localhost:8080/",
          "height": 280
        },
        "id": "rb255WdZUYau",
        "outputId": "9a4637e3-6daa-40cb-ab6d-695365aa8790"
      },
      "source": [
        "#시각화\r\n",
        "import matplotlib.pyplot as plt\r\n",
        "%matplotlib inline\r\n",
        "\r\n",
        "plt.plot(dat_df['cum_min'],dat_df['Appliances'])\r\n",
        "\r\n",
        "plt.xlabel('cum_min')\r\n",
        "plt.ylabel('Appliances')\r\n",
        "plt.show()\r\n"
      ],
      "execution_count": null,
      "outputs": [
        {
          "output_type": "display_data",
          "data": {
            "image/png": "[encoded data removed]",
            "text/plain": [
              "<Figure size 432x288 with 1 Axes>"
            ]
          },
          "metadata": {
            "tags": [],
            "needs_background": "light"
          }
        }
      ]
    }
  ]
}