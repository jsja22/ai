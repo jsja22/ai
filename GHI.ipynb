{
  "nbformat": 4,
  "nbformat_minor": 0,
  "metadata": {
    "colab": {
      "name": "GHI.ipynb",
      "provenance": [],
      "authorship_tag": "ABX9TyMSjj2hitXkAI2aN/4pHJQK",
      "include_colab_link": true
    },
    "kernelspec": {
      "name": "python3",
      "display_name": "Python 3"
    }
  },
  "cells": [
    {
      "cell_type": "markdown",
      "metadata": {
        "id": "view-in-github",
        "colab_type": "text"
      },
      "source": [
        "<a href=\"https://colab.research.google.com/github/jsja22/ai/blob/master/GHI.ipynb\" target=\"_parent\"><img src=\"https://colab.research.google.com/assets/colab-badge.svg\" alt=\"Open In Colab\"/></a>"
      ]
    },
    {
      "cell_type": "code",
      "metadata": {
        "colab": {
          "base_uri": "https://localhost:8080/"
        },
        "id": "qaicqJaA3sye",
        "outputId": "70fc00e6-a55b-416c-a1eb-e52346994b37"
      },
      "source": [
        "import pandas as pd\r\n",
        "import numpy as np\r\n",
        "from google.colab import drive\r\n",
        "drive.mount('/content/drive')\r\n",
        "import os\r\n",
        "import glob\r\n",
        "import sys\r\n",
        "import tensorflow.keras.backend as K\r\n",
        "from tensorflow.keras.callbacks import EarlyStopping, ModelCheckpoint\r\n",
        "from sklearn.model_selection import train_test_split\r\n",
        "from sklearn.preprocessing import MinMaxScaler\r\n",
        "from tensorflow.keras.models import Sequential,Model ,load_model\r\n",
        "from tensorflow.keras.layers import Dense, LSTM, Dropout,Lambda,MaxPooling2D, Conv2D, Flatten, Reshape, Conv1D, MaxPooling1D, Input,LeakyReLU\r\n",
        "from sklearn.metrics import mean_squared_error,r2_score\r\n",
        "from tensorflow.keras.callbacks import EarlyStopping, ModelCheckpoint, ReduceLROnPlateau\r\n",
        "from tensorflow.keras.losses import Huber\r\n",
        "from tensorflow.keras.optimizers import Adam\r\n",
        "import math\r\n"
      ],
      "execution_count": 10,
      "outputs": [
        {
          "output_type": "stream",
          "text": [
            "Drive already mounted at /content/drive; to attempt to forcibly remount, call drive.mount(\"/content/drive\", force_remount=True).\n"
          ],
          "name": "stdout"
        }
      ]
    },
    {
      "cell_type": "code",
      "metadata": {
        "colab": {
          "base_uri": "https://localhost:8080/"
        },
        "id": "hlf8s3tJ5Bqf",
        "outputId": "1dfda704-bb20-45c7-cbd2-7f23c90d37b9"
      },
      "source": [
        "train = pd.read_csv('/content/drive/MyDrive/train.csv')\r\n",
        "submission = pd.read_csv('/content/drive/MyDrive/sample_submission.csv')\r\n",
        "\r\n",
        "'''\r\n",
        "def preprocess_data(data,is_train=True):\r\n",
        "    \r\n",
        "    #시간각 구하기(w)   12시기준으로 12시 이후 1시간 단위로 15도씩 증가 12시 이전으로 1시간 단위로 -15도 씩 증가\r\n",
        "    angle = 15\r\n",
        "    noon = 12  \r\n",
        "    data['time_angle'] = [(x - noon ) * angle if x >= noon  else -(noon  - x) * angle for x in data.Hour]\r\n",
        "\r\n",
        "    #일적위 구하기 -23.45*np.cos(360/365 *(x+10))\r\n",
        "    data['declination'] = [-23.44 * np.cos(360 /365 *(x+10)) for x in data.Day]\r\n",
        "    \r\n",
        "    #cos세타제트 구하기  => CosФCosбCosω + SinρSinФ\r\n",
        "    data['theta_z'] = 90 - 1/(np.sin(np.sin(data['declination']) *np.sin(36) + \\\r\n",
        "    np.cos(data['declination'])*np.cos(36) * np.cos(data['time_angle'])))    \r\n",
        "\r\n",
        "    #GHI 구하기  ->DHI + DNIx(cos세타제트)\r\n",
        "    data['GHI'] = data.DHI + data.DNI * np.cos(data.theta_z)\r\n",
        "\r\n",
        "    #data['Time'] = data['Hour'] + data['Minute']*(0.5/30)\r\n",
        "    #data['sin_time'] = np.sin(2*np.pi*data.Time/24)\r\n",
        "    #data['cos_time'] = np.cos(2*np.pi*data.Time/24)\r\n",
        "    \r\n",
        "    temp = data.copy()\r\n",
        "    temp = temp[['DHI','DNI','GHI','T','WS','RH','TARGET']]\r\n",
        "    \r\n",
        "\r\n",
        "    if is_train == True:\r\n",
        "        temp['TARGET1'] = temp['TARGET'].shift(-48).fillna(method = 'ffill')\r\n",
        "        temp['TARGET2'] = temp['TARGET'].shift(-96).fillna(method = 'ffill')\r\n",
        "        temp = temp.dropna()\r\n",
        "        return temp.iloc[:-96]\r\n",
        "\r\n",
        "    elif is_train == False:\r\n",
        "        return temp.iloc[-48*day:, :]\r\n",
        "'''\r\n",
        "def preprocess_data(data,is_train=True):\r\n",
        "    data['cos'] = np.cos(np.pi/2 - np.abs(data['Hour']%12 - 6)/6*np.pi/2)\r\n",
        "    data.insert(1,'GHI',data['DNI']*data['cos']+data['DHI'])\r\n",
        "\r\n",
        "    data['Time'] = data['Hour'] + data['Minute']*(0.5/30)\r\n",
        "    data['sin_time'] = np.sin(2*np.pi*data.Time/24)\r\n",
        "    data['cos_time'] = np.cos(2*np.pi*data.Time/24)\r\n",
        "    temp = data.copy()\r\n",
        "    temp = temp[['DHI','DNI','GHI','T','WS','RH','TARGET']]\r\n",
        "    \r\n",
        "\r\n",
        "    if is_train == True:\r\n",
        "        temp['TARGET1'] = temp['TARGET'].shift(-48).fillna(method = 'ffill')\r\n",
        "        temp['TARGET2'] = temp['TARGET'].shift(-96).fillna(method = 'ffill')\r\n",
        "        temp = temp.dropna()\r\n",
        "        return temp.iloc[:-96]\r\n",
        "\r\n",
        "    elif is_train == False:\r\n",
        "        return temp.iloc[-48*day:, :]\r\n",
        "\r\n",
        "\r\n",
        "\r\n",
        "\r\n",
        "df_train = preprocess_data(train,is_train=True)\r\n",
        "print(df_train.columns) "
      ],
      "execution_count": 11,
      "outputs": [
        {
          "output_type": "stream",
          "text": [
            "Index(['DHI', 'DNI', 'GHI', 'T', 'WS', 'RH', 'TARGET', 'TARGET1', 'TARGET2'], dtype='object')\n"
          ],
          "name": "stdout"
        }
      ]
    },
    {
      "cell_type": "code",
      "metadata": {
        "colab": {
          "base_uri": "https://localhost:8080/"
        },
        "id": "Hb32dHmB5yDH",
        "outputId": "2c92e98f-7820-41c1-85fa-a4317c5f58cc"
      },
      "source": [
        "print(df_train['GHI'].iloc[8555:8900])  #8555    157.127313\r\n",
        "#8556     48.000000\r\n",
        "#8557     57.000000\r\n",
        "#8558    263.255389\r\n",
        "#8559    281.678703\r\n",
        "           ...    \r\n",
        "#8895    282.455541\r\n",
        "#8896    489.000000\r\n",
        "#8897    517.500000\r\n",
        "#8898    681.042243\r\n",
        "#8899    705.494516\r\n",
        "\r\n",
        "#공식 대입 안했을때"
      ],
      "execution_count": 12,
      "outputs": [
        {
          "output_type": "stream",
          "text": [
            "8555    157.127313\n",
            "8556     48.000000\n",
            "8557     57.000000\n",
            "8558    263.255389\n",
            "8559    281.678703\n",
            "           ...    \n",
            "8895    282.455541\n",
            "8896    489.000000\n",
            "8897    517.500000\n",
            "8898    681.042243\n",
            "8899    705.494516\n",
            "Name: GHI, Length: 345, dtype: float64\n"
          ],
          "name": "stdout"
        }
      ]
    },
    {
      "cell_type": "code",
      "metadata": {
        "colab": {
          "base_uri": "https://localhost:8080/"
        },
        "id": "3Q1Picub5EKK",
        "outputId": "535278bd-c417-496c-8da7-b8a912833a0f"
      },
      "source": [
        "print(df_train['GHI'].iloc[8555:8900]) #8555    354.173473\r\n",
        "#8556    463.123872\r\n",
        "#8557    534.938669\r\n",
        "#8558    573.653065\r\n",
        "#8559    611.526886\r\n",
        "           ...    \r\n",
        "8895    785.866587\r\n",
        "#8896    728.558497\r\n",
        "#8897    713.864446\r\n",
        "#8898    809.998912\r\n",
        "#8899    821.154507\r\n",
        "\r\n",
        "#ghi공식 대입 했을때"
      ],
      "execution_count": 6,
      "outputs": [
        {
          "output_type": "stream",
          "text": [
            "8555    354.173473\n",
            "8556    463.123872\n",
            "8557    534.938669\n",
            "8558    573.653065\n",
            "8559    611.526886\n",
            "           ...    \n",
            "8895    785.866587\n",
            "8896    728.558497\n",
            "8897    713.864446\n",
            "8898    809.998912\n",
            "8899    821.154507\n",
            "Name: GHI, Length: 345, dtype: float64\n"
          ],
          "name": "stdout"
        }
      ]
    }
  ]
}